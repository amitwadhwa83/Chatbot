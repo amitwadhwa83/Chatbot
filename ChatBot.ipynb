{
 "cells": [
  {
   "cell_type": "code",
   "id": "02b638c9-693f-44ec-9901-01ad9680cbaa",
   "metadata": {
    "ExecuteTime": {
     "end_time": "2024-08-04T13:43:36.515978Z",
     "start_time": "2024-08-04T13:43:36.332847Z"
    }
   },
   "source": [
    "import os\n",
    "import openai\n",
    "from openai import OpenAI\n",
    " \n",
    "# pull in your API key\n",
    "os.environ['OPENAI_API_KEY'] = 'secrets'\n",
    " \n",
    "# setup the openapi client interface\n",
    "client = OpenAI()\n",
    "OpenAI.api_key = os.getenv('OPENAI_API_KEY')\n",
    " \n",
    "# tell the chatbot what its purpose is about\n",
    "messages = [\n",
    "    {\"role\": \"system\", \"content\" : \"\"\"You are my weekly mental health doctor and will help me maintain a positive mindset. \n",
    "            You will fill me with realistic and optimistic advice to get me through the work week. \n",
    "            Remember that I work from 9am to 6pm and rest of the day is with my family.\"\"\"}\n",
    "]\n",
    " \n",
    "def generate_response(user_message):\n",
    "    try:\n",
    "        response = client.chat.completions.create(\n",
    "            model = \"gpt-3.5-turbo\",\n",
    "            messages = messages,\n",
    "            max_tokens = 150,\n",
    "            temperature = 0.6\n",
    "        )\n",
    " \n",
    "        # append previous response to chatbot so it remembers the conversation when answering the next message\n",
    "        messages.append( {\n",
    "            \"role\" : \"assistant\",\n",
    "            \"content\": response.choices[0].message.content\n",
    "        })\n",
    "        return response.choices[0].message.content\n",
    "    except Exception as ex:\n",
    "        print (f\"Got an error from the OpenAPI API call {ex}\")\n",
    " \n",
    "print(\"Chatbot: Hello! Type 'exit' to end the conversation.\")\n",
    " \n",
    "while True:\n",
    "    user_input = input(\"You: \")\n",
    "    if user_input.lower() == 'exit':\n",
    "        break\n",
    "    response = generate_response(user_input)\n",
    "    print(f\"Chatbot: {response}\")"
   ],
   "outputs": [
    {
     "ename": "ModuleNotFoundError",
     "evalue": "No module named 'openai'",
     "output_type": "error",
     "traceback": [
      "\u001B[1;31m---------------------------------------------------------------------------\u001B[0m",
      "\u001B[1;31mModuleNotFoundError\u001B[0m                       Traceback (most recent call last)",
      "Cell \u001B[1;32mIn[1], line 2\u001B[0m\n\u001B[0;32m      1\u001B[0m \u001B[38;5;28;01mimport\u001B[39;00m \u001B[38;5;21;01mos\u001B[39;00m\n\u001B[1;32m----> 2\u001B[0m \u001B[38;5;28;01mimport\u001B[39;00m \u001B[38;5;21;01mopenai\u001B[39;00m\n\u001B[0;32m      3\u001B[0m \u001B[38;5;28;01mfrom\u001B[39;00m \u001B[38;5;21;01mopenai\u001B[39;00m \u001B[38;5;28;01mimport\u001B[39;00m OpenAI\n\u001B[0;32m      5\u001B[0m \u001B[38;5;66;03m# pull in your API key\u001B[39;00m\n",
      "\u001B[1;31mModuleNotFoundError\u001B[0m: No module named 'openai'"
     ]
    }
   ],
   "execution_count": 1
  },
  {
   "cell_type": "code",
   "id": "33894cc7-6b70-491e-bca4-23e5138efd9f",
   "metadata": {
    "ExecuteTime": {
     "end_time": "2024-08-04T13:43:36.515978Z",
     "start_time": "2024-08-04T13:43:36.515978Z"
    }
   },
   "source": [],
   "outputs": [],
   "execution_count": null
  },
  {
   "metadata": {
    "ExecuteTime": {
     "end_time": "2024-08-04T13:43:36.515978Z",
     "start_time": "2024-08-04T13:43:36.515978Z"
    }
   },
   "cell_type": "code",
   "source": "",
   "id": "597513d50db31c55",
   "outputs": [],
   "execution_count": null
  }
 ],
 "metadata": {
  "kernelspec": {
   "display_name": "Python 3 (ipykernel)",
   "language": "python",
   "name": "python3"
  },
  "language_info": {
   "codemirror_mode": {
    "name": "ipython",
    "version": 3
   },
   "file_extension": ".py",
   "mimetype": "text/x-python",
   "name": "python",
   "nbconvert_exporter": "python",
   "pygments_lexer": "ipython3",
   "version": "3.12.4"
  }
 },
 "nbformat": 4,
 "nbformat_minor": 5
}
